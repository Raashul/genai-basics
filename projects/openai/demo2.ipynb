{
 "cells": [
  {
   "cell_type": "markdown",
   "metadata": {},
   "source": [
    "Function calling in OpenAI"
   ]
  },
  {
   "cell_type": "code",
   "execution_count": 1,
   "metadata": {},
   "outputs": [],
   "source": [
    "import os\n",
    "import openai\n",
    "from dotenv import load_dotenv"
   ]
  },
  {
   "cell_type": "code",
   "execution_count": 2,
   "metadata": {},
   "outputs": [],
   "source": [
    "load_dotenv()\n",
    "OPENAI_API_KEY = os.getenv(\"OPENAI_API_KEY\")"
   ]
  },
  {
   "cell_type": "code",
   "execution_count": 7,
   "metadata": {},
   "outputs": [],
   "source": [
    "openai.api_key = OPENAI_API_KEY"
   ]
  },
  {
   "cell_type": "code",
   "execution_count": 3,
   "metadata": {},
   "outputs": [],
   "source": [
    "# Example dummy function hard coded to return the same weather\n",
    "# In production, this could be your backend API or an external API\n",
    "\n",
    "import requests\n",
    "def get_current_weather(location):\n",
    "    \"\"\"Get the current weather in a given location\"\"\"\n",
    "\n",
    "    url = \"https://ai-weather-by-meteosource.p.rapidapi.com/find_places\"\n",
    "\n",
    "    querystring = {\"text\":location}\n",
    "\n",
    "    headers = {\n",
    "      'x-rapidapi-key': \"156877d1e1msh6806b57dfec44b9p1bd2c8jsn796f2ff15790\",\n",
    "      'x-rapidapi-host': \"ai-weather-by-meteosource.p.rapidapi.com\"\n",
    "    }\n",
    "\n",
    "    response = requests.get(url, headers=headers, params=querystring)\n",
    "\n",
    "    print(response.json())\n",
    "  \n",
    "    return response.json()"
   ]
  },
  {
   "cell_type": "code",
   "execution_count": 10,
   "metadata": {},
   "outputs": [
    {
     "name": "stdout",
     "output_type": "stream",
     "text": [
      "[{'name': 'Washington D.C.', 'place_id': 'washington', 'adm_area1': 'District of Columbia', 'adm_area2': 'Washington', 'country': 'United States of America', 'lat': '38.89511N', 'lon': '77.03637W', 'timezone': 'America/New_York', 'type': 'settlement'}, {'name': 'District of Columbia', 'place_id': 'district-of-columbia', 'adm_area1': 'District of Columbia', 'adm_area2': None, 'country': 'United States of America', 'lat': '38.91706N', 'lon': '77.00025W', 'timezone': 'America/New_York', 'type': 'administrative_area'}, {'name': 'Fairfield Inn & Suites Washington. Dc Downtown', 'place_id': 'fairfield-inn-suites-washington-dc-downtown', 'adm_area1': 'District of Columbia', 'adm_area2': 'Washington', 'country': 'United States of America', 'lat': '38.89981N', 'lon': '77.01896W', 'timezone': 'America/New_York', 'type': 'heliport'}, {'name': 'District of Columbia General Hospital ACCC Heliport', 'place_id': 'district-of-columbia-general-hospital-accc-heliport', 'adm_area1': 'District of Columbia', 'adm_area2': 'Washington', 'country': 'United States of America', 'lat': '38.88678N', 'lon': '76.97498W', 'timezone': 'America/New_York', 'type': 'heliport'}]\n"
     ]
    }
   ],
   "source": [
    "response = get_current_weather(\"Washington DC\")"
   ]
  },
  {
   "cell_type": "code",
   "execution_count": 11,
   "metadata": {},
   "outputs": [
    {
     "data": {
      "text/plain": [
       "[{'name': 'Washington D.C.',\n",
       "  'place_id': 'washington',\n",
       "  'adm_area1': 'District of Columbia',\n",
       "  'adm_area2': 'Washington',\n",
       "  'country': 'United States of America',\n",
       "  'lat': '38.89511N',\n",
       "  'lon': '77.03637W',\n",
       "  'timezone': 'America/New_York',\n",
       "  'type': 'settlement'},\n",
       " {'name': 'District of Columbia',\n",
       "  'place_id': 'district-of-columbia',\n",
       "  'adm_area1': 'District of Columbia',\n",
       "  'adm_area2': None,\n",
       "  'country': 'United States of America',\n",
       "  'lat': '38.91706N',\n",
       "  'lon': '77.00025W',\n",
       "  'timezone': 'America/New_York',\n",
       "  'type': 'administrative_area'},\n",
       " {'name': 'Fairfield Inn & Suites Washington. Dc Downtown',\n",
       "  'place_id': 'fairfield-inn-suites-washington-dc-downtown',\n",
       "  'adm_area1': 'District of Columbia',\n",
       "  'adm_area2': 'Washington',\n",
       "  'country': 'United States of America',\n",
       "  'lat': '38.89981N',\n",
       "  'lon': '77.01896W',\n",
       "  'timezone': 'America/New_York',\n",
       "  'type': 'heliport'},\n",
       " {'name': 'District of Columbia General Hospital ACCC Heliport',\n",
       "  'place_id': 'district-of-columbia-general-hospital-accc-heliport',\n",
       "  'adm_area1': 'District of Columbia',\n",
       "  'adm_area2': 'Washington',\n",
       "  'country': 'United States of America',\n",
       "  'lat': '38.88678N',\n",
       "  'lon': '76.97498W',\n",
       "  'timezone': 'America/New_York',\n",
       "  'type': 'heliport'}]"
      ]
     },
     "execution_count": 11,
     "metadata": {},
     "output_type": "execute_result"
    }
   ],
   "source": [
    "response"
   ]
  },
  {
   "cell_type": "code",
   "execution_count": null,
   "metadata": {},
   "outputs": [],
   "source": [
    "functions = [\n",
    "        {\n",
    "            \"name\": \"get_current_weather\",\n",
    "            \"description\": \"Get the current weather in a given location\",\n",
    "            \"parameters\": {\n",
    "                \"type\": \"object\",\n",
    "                \"properties\": {\n",
    "                    \"location\": {\n",
    "                        \"type\": \"string\",\n",
    "                        \"description\": \"The city and state, e.g. San Francisco, CA\",\n",
    "                    },\n",
    "                    \n",
    "                },\n",
    "                \"required\": [\"location\"],\n",
    "            },\n",
    "        }\n",
    "    ]"
   ]
  },
  {
   "cell_type": "code",
   "execution_count": 27,
   "metadata": {},
   "outputs": [],
   "source": [
    "user_message=\"What is the temperature in Washington DC\"\n",
    "messages=[]\n",
    "messages.append({\"role\": \"user\", \"content\": user_message})\n",
    "\n",
    "completion=openai.ChatCompletion.create(\n",
    "    model=\"gpt-3.5-turbo\",\n",
    "    messages=messages,\n",
    "    functions=functions\n",
    "    \n",
    ")"
   ]
  },
  {
   "cell_type": "code",
   "execution_count": 28,
   "metadata": {},
   "outputs": [
    {
     "data": {
      "text/plain": [
       "<OpenAIObject chat.completion id=chatcmpl-BJ5KynB2e3tNDk9acjT7kppDIgcI9 at 0x1175c85e0> JSON: {\n",
       "  \"id\": \"chatcmpl-BJ5KynB2e3tNDk9acjT7kppDIgcI9\",\n",
       "  \"object\": \"chat.completion\",\n",
       "  \"created\": 1743888448,\n",
       "  \"model\": \"gpt-3.5-turbo-0125\",\n",
       "  \"choices\": [\n",
       "    {\n",
       "      \"index\": 0,\n",
       "      \"message\": {\n",
       "        \"role\": \"assistant\",\n",
       "        \"content\": null,\n",
       "        \"function_call\": {\n",
       "          \"name\": \"get_current_weather\",\n",
       "          \"arguments\": \"{\\\"location\\\":\\\"Washington DC\\\"}\"\n",
       "        },\n",
       "        \"refusal\": null,\n",
       "        \"annotations\": []\n",
       "      },\n",
       "      \"logprobs\": null,\n",
       "      \"finish_reason\": \"function_call\"\n",
       "    }\n",
       "  ],\n",
       "  \"usage\": {\n",
       "    \"prompt_tokens\": 70,\n",
       "    \"completion_tokens\": 17,\n",
       "    \"total_tokens\": 87,\n",
       "    \"prompt_tokens_details\": {\n",
       "      \"cached_tokens\": 0,\n",
       "      \"audio_tokens\": 0\n",
       "    },\n",
       "    \"completion_tokens_details\": {\n",
       "      \"reasoning_tokens\": 0,\n",
       "      \"audio_tokens\": 0,\n",
       "      \"accepted_prediction_tokens\": 0,\n",
       "      \"rejected_prediction_tokens\": 0\n",
       "    }\n",
       "  },\n",
       "  \"service_tier\": \"default\",\n",
       "  \"system_fingerprint\": null\n",
       "}"
      ]
     },
     "execution_count": 28,
     "metadata": {},
     "output_type": "execute_result"
    }
   ],
   "source": [
    "completion"
   ]
  },
  {
   "cell_type": "code",
   "execution_count": 29,
   "metadata": {},
   "outputs": [
    {
     "name": "stdout",
     "output_type": "stream",
     "text": [
      "{\n",
      "  \"role\": \"assistant\",\n",
      "  \"content\": null,\n",
      "  \"function_call\": {\n",
      "    \"name\": \"get_current_weather\",\n",
      "    \"arguments\": \"{\\\"location\\\":\\\"Washington DC\\\"}\"\n",
      "  },\n",
      "  \"refusal\": null,\n",
      "  \"annotations\": []\n",
      "}\n"
     ]
    }
   ],
   "source": [
    "print(completion.choices[0].message)"
   ]
  },
  {
   "cell_type": "code",
   "execution_count": 20,
   "metadata": {},
   "outputs": [],
   "source": [
    "response=completion.choices[0].message"
   ]
  },
  {
   "cell_type": "code",
   "execution_count": 30,
   "metadata": {},
   "outputs": [
    {
     "data": {
      "text/plain": [
       "<OpenAIObject at 0x1175b67f0> JSON: {\n",
       "  \"role\": \"assistant\",\n",
       "  \"content\": null,\n",
       "  \"function_call\": {\n",
       "    \"name\": \"get_current_weather\",\n",
       "    \"arguments\": \"{\\\"location\\\":\\\"Washington, DC\\\"}\"\n",
       "  },\n",
       "  \"refusal\": null,\n",
       "  \"annotations\": []\n",
       "}"
      ]
     },
     "execution_count": 30,
     "metadata": {},
     "output_type": "execute_result"
    }
   ],
   "source": [
    "response"
   ]
  },
  {
   "cell_type": "code",
   "execution_count": 22,
   "metadata": {},
   "outputs": [
    {
     "name": "stdout",
     "output_type": "stream",
     "text": [
      "get_current_weather\n"
     ]
    }
   ],
   "source": [
    "function_name=response['function_call']['name']\n",
    "print(function_name)"
   ]
  },
  {
   "cell_type": "code",
   "execution_count": 23,
   "metadata": {},
   "outputs": [
    {
     "name": "stdout",
     "output_type": "stream",
     "text": [
      "Washington, DC\n"
     ]
    }
   ],
   "source": [
    "import json\n",
    "location=eval(response['function_call']['arguments'])['location']\n",
    "print(location)"
   ]
  },
  {
   "cell_type": "code",
   "execution_count": 24,
   "metadata": {},
   "outputs": [],
   "source": [
    "messages.append(response)  # extend conversation with assistant's reply\n",
    "messages.append(\n",
    "    {\n",
    "        \"role\": \"function\",\n",
    "        \"name\": function_name,\n",
    "        \"content\": location,\n",
    "    }\n",
    ")"
   ]
  },
  {
   "cell_type": "code",
   "execution_count": 25,
   "metadata": {},
   "outputs": [],
   "source": [
    "# extend conversation with function response\n",
    "second_response = openai.ChatCompletion.create(\n",
    "    model=\"gpt-3.5-turbo\",\n",
    "    messages=messages,\n",
    "    functions=functions\n",
    ")  # get a new response from GPT where it can see the function response\n"
   ]
  },
  {
   "cell_type": "code",
   "execution_count": 26,
   "metadata": {},
   "outputs": [
    {
     "name": "stdout",
     "output_type": "stream",
     "text": [
      "{\n",
      "  \"role\": \"assistant\",\n",
      "  \"content\": \"The current temperature in Washington, DC is 75\\u00b0F.\",\n",
      "  \"refusal\": null,\n",
      "  \"annotations\": []\n",
      "}\n"
     ]
    }
   ],
   "source": [
    "print(second_response.choices[0].message)"
   ]
  }
 ],
 "metadata": {
  "kernelspec": {
   "display_name": "openai",
   "language": "python",
   "name": "python3"
  },
  "language_info": {
   "codemirror_mode": {
    "name": "ipython",
    "version": 3
   },
   "file_extension": ".py",
   "mimetype": "text/x-python",
   "name": "python",
   "nbconvert_exporter": "python",
   "pygments_lexer": "ipython3",
   "version": "3.10.16"
  }
 },
 "nbformat": 4,
 "nbformat_minor": 2
}
